{
 "cells": [
  {
   "cell_type": "code",
   "execution_count": 26,
   "metadata": {},
   "outputs": [
    {
     "name": "stdout",
     "output_type": "stream",
     "text": [
      "Hello, Jake Campbell\n",
      "Hello, Jake Campbell\n",
      "Hello, Jake Campbell\n",
      "Hello, Jake Campbell\n",
      "Hello, Jake\n"
     ]
    }
   ],
   "source": [
    "# INPUT: Prompt for name, get name\n",
    "# name = input(\"Enter your full name: \")\t# did not have to declare name's datatype\n",
    "\t\t\t\t\t\t\t\t\t\t\t# Python deduced type at compile time\n",
    "\n",
    "# PROCESSING: Remove leading whitespace from name\n",
    "# name = name.strip()\n",
    "\n",
    "# PROCESSING: Capitalize beginning of str\n",
    "# name = name.capitalize()\n",
    "\n",
    "# PROCESSING: Capitalize the beginning of every word\n",
    "# name = name.title()\n",
    "\n",
    "# You can chain together functions in one line\n",
    "name = input(\"Enter your full name: \").strip().title()\n",
    "\n",
    "first, last = name.split(\" \")\n",
    "\n",
    "# OUTPUT: \n",
    "\n",
    "''' \n",
    "Greet user\n",
    "Figure out how to output literal and var on same line\n",
    "'''\n",
    "\n",
    "print(\"Hello, \", name, sep=\"\", end='\\n')\n",
    "'''\n",
    "Default value of sub is ' ', default of end is \\n\n",
    "These do not persist after the function call\n",
    "Similar to C/C++, use escape characters to print special characters as string literals\n",
    "'''\n",
    "\n",
    "print(\"Hello, \" + name) # concatenate string literal & string var is legal in Python\n",
    "print(\"Hello,\", name)\t# replacing + with , will automatically insert a white space\n",
    "print(f\"Hello, {name}\")\t# f is a keyword that formats certain things like the var name in {}\n",
    "print(\"Hello,\", first)\n"
   ]
  }
 ],
 "metadata": {
  "kernelspec": {
   "display_name": "Python 3",
   "language": "python",
   "name": "python3"
  },
  "language_info": {
   "codemirror_mode": {
    "name": "ipython",
    "version": 3
   },
   "file_extension": ".py",
   "mimetype": "text/x-python",
   "name": "python",
   "nbconvert_exporter": "python",
   "pygments_lexer": "ipython3",
   "version": "3.9.7"
  },
  "orig_nbformat": 4,
  "vscode": {
   "interpreter": {
    "hash": "c347c8f9a7ef94e4c9e03b4513be7835ed18f45b99a2a817fb579f408b867b16"
   }
  }
 },
 "nbformat": 4,
 "nbformat_minor": 2
}
